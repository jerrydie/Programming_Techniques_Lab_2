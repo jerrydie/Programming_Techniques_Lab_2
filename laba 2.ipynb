{
 "cells": [
  {
   "cell_type": "markdown",
   "metadata": {},
   "source": [
    "# Лабораторная работа № 2\n",
    "## Вариант 24, Щеглова П.Н.\n",
    "Массив данных с информацией о постояльцах некоторой гостиницы: ФИО, занимаемый номер, дата приезда, дата отъезда, сумма оплаты проживания (сравнение по полям – дата приезда, занимаемый номер, ФИО)\n",
    "\n",
    "Сортировка наиболее эффективным методом из Лабораторной № 2 (из реализованных) - быстрая сортировка"
   ]
  },
  {
   "cell_type": "code",
   "execution_count": 70,
   "metadata": {},
   "outputs": [],
   "source": [
    "\"\"\"@package docstring\n",
    "In this module class and its methods are created.\n",
    "\"\"\"\n",
    "\n",
    "import numpy as np\n",
    "\n",
    "\n",
    "class Guest:\n",
    "    \"\"\"class Guest consists of a name, room number, check-in and check-out dates in April 2020 \n",
    "    and amount to pay of the guest in the hotel.\n",
    " \n",
    "    There are methods to create, compare and represent the Guests.\n",
    "    \"\"\"\n",
    "    def __init__(self, Name, room, check_in, check_out, amount):\n",
    "        \"\"\"The constructor.\"\"\"\n",
    "        self.Name = Name\n",
    "        self.room = room\n",
    "        self.check_in = check_in\n",
    "        self.check_out = check_out\n",
    "        self.amount = amount\n",
    "        \n",
    "    def __lt__(self, other): \n",
    "        \"\"\"Comparing Guests by name. Operator <\"\"\"\n",
    "        if self.Name < other.Name:\n",
    "            return True\n",
    "        return False\n",
    "    def __gt__(self, other): \n",
    "        \"\"\"Comparing Guests by name. Operator <\"\"\"\n",
    "        if self.Name > other.Name:\n",
    "            return True\n",
    "        return False\n",
    "    def __le__(self, other): \n",
    "        \"\"\"Comparing Guests by name. Operator <=\"\"\"\n",
    "        if self.Name <= other.Name:\n",
    "            return True\n",
    "        return False\n",
    "    def __ge__(self, other): \n",
    "        \"\"\"Comparing Guests by name. Operator >=\"\"\"\n",
    "        if self.Name >= other.Name:\n",
    "            return True\n",
    "        return False\n",
    "    def __eq__(self, other): \n",
    "        \"\"\"Comparing Guests by name. Operator ==\"\"\"\n",
    "        if self.Name == other.Name:\n",
    "            return True\n",
    "        return False\n",
    "                    \n",
    "    def __repr__(self):\n",
    "        \"\"\"The representer.\"\"\"\n",
    "        return \"Guest {i} stays in room #{j} from {k} to {l} April\\n\".format(i=self.Name,\n",
    "                                                                            j=self.room,\n",
    "                                                                            k=self.check_in,\n",
    "                                                                            l=self.check_out)"
   ]
  },
  {
   "cell_type": "code",
   "execution_count": 71,
   "metadata": {},
   "outputs": [],
   "source": [
    "\"\"\"@package docstring\n",
    "In this module data is imported from txt-files and saved in series of class Guest.\n",
    "\"\"\"\n",
    "import pandas as pd\n",
    "\n",
    "list1 = pd.read_csv('list 1.txt', header = None, sep='\\t')\n",
    "list2 = pd.read_csv('list 2.txt', header = None, sep='\\t')\n",
    "list3 = pd.read_csv('list 3.txt', header = None, sep='\\t')\n",
    "list4 = pd.read_csv('list 4.txt', header = None, sep='\\t')\n",
    "list5 = pd.read_csv('list 5.txt', header = None, sep='\\t')\n",
    "list6 = pd.read_csv('list 6.txt', header = None, sep='\\t')\n",
    "list7 = pd.read_csv('list 7.txt', header = None, sep='\\t')\n",
    "list8 = pd.read_csv('list 8.txt', header = None, sep='\\t')\n",
    "list9 = pd.read_csv('list 9.txt', header = None, sep='\\t')\n",
    "list10 = pd.read_csv('list 10.txt', header = None, sep='\\t')\n",
    "\n",
    "def to_Guest (df_list):\n",
    "    \"\"\"Function provides the conversion from pandas.DataFrame dtype=string to pandas.Series dtype=object.Guest.\"\"\"\n",
    "    list_guest = pd.Series(np.empty((len(df_list))))\n",
    "    for i in range(len(df_list)):\n",
    "        Name = df_list[0][i]\n",
    "        room = int(df_list[1][i])\n",
    "        check_in = int(df_list[2][i])\n",
    "        check_out = int(df_list[3][i])\n",
    "        amount = int(df_list[4][i])\n",
    "        list_guest.iloc[[i]] = Guest(Name, room, check_in, check_out, amount)\n",
    "    return list_guest\n",
    "\n",
    "list1_guest = to_Guest (list1)\n",
    "list2_guest = to_Guest (list2)\n",
    "list3_guest = to_Guest (list3)\n",
    "list4_guest = to_Guest (list4)\n",
    "list5_guest = to_Guest (list5)\n",
    "list6_guest = to_Guest (list6)\n",
    "list7_guest = to_Guest (list7)\n",
    "list8_guest = to_Guest (list8)\n",
    "list9_guest = to_Guest (list9)\n",
    "list10_guest = to_Guest (list10)"
   ]
  },
  {
   "cell_type": "code",
   "execution_count": 88,
   "metadata": {},
   "outputs": [],
   "source": [
    "\"\"\"@package docstring\n",
    "In this module linear searching algorithm is formed as a functional module. Const function.\n",
    "\"\"\"\n",
    "\n",
    "def l_search(data, key):\n",
    "    key=Guest(key,0,0,0,0)\n",
    "    Indexes = []\n",
    "    for i in range(len(data)):\n",
    "        if data[i] == key:\n",
    "            Indexes.append(i)\n",
    "    if len(Indexes) > 0:\n",
    "        return Indexes\n",
    "    return -1"
   ]
  },
  {
   "cell_type": "code",
   "execution_count": 86,
   "metadata": {},
   "outputs": [],
   "source": [
    "linear_time = []\n",
    "sortbinar_time = []\n",
    "binar_time = []"
   ]
  },
  {
   "cell_type": "code",
   "execution_count": 89,
   "metadata": {},
   "outputs": [
    {
     "name": "stdout",
     "output_type": "stream",
     "text": [
      "4.23 ms ± 793 µs per loop (mean ± std. dev. of 7 runs, 100 loops each)\n"
     ]
    },
    {
     "data": {
      "text/plain": [
       "<TimeitResult : 4.23 ms ± 793 µs per loop (mean ± std. dev. of 7 runs, 100 loops each)>"
      ]
     },
     "execution_count": 89,
     "metadata": {},
     "output_type": "execute_result"
    }
   ],
   "source": [
    "%%timeit -o\n",
    "l_search(list3_guest, 'Бавыкина Марина Павловна')"
   ]
  },
  {
   "cell_type": "code",
   "execution_count": 90,
   "metadata": {},
   "outputs": [],
   "source": [
    "linear_time.append(_)"
   ]
  },
  {
   "cell_type": "code",
   "execution_count": 91,
   "metadata": {},
   "outputs": [
    {
     "name": "stdout",
     "output_type": "stream",
     "text": [
      "3.9 ms ± 67.8 µs per loop (mean ± std. dev. of 7 runs, 100 loops each)\n"
     ]
    },
    {
     "data": {
      "text/plain": [
       "<TimeitResult : 3.9 ms ± 67.8 µs per loop (mean ± std. dev. of 7 runs, 100 loops each)>"
      ]
     },
     "execution_count": 91,
     "metadata": {},
     "output_type": "execute_result"
    }
   ],
   "source": [
    "%%timeit -o\n",
    "l_search(list1_guest, 'Нугманов Артур Маратович')"
   ]
  },
  {
   "cell_type": "code",
   "execution_count": 92,
   "metadata": {},
   "outputs": [],
   "source": [
    "linear_time.append(_)"
   ]
  },
  {
   "cell_type": "code",
   "execution_count": 96,
   "metadata": {},
   "outputs": [
    {
     "name": "stdout",
     "output_type": "stream",
     "text": [
      "4.05 ms ± 39.1 µs per loop (mean ± std. dev. of 7 runs, 100 loops each)\n"
     ]
    },
    {
     "data": {
      "text/plain": [
       "<TimeitResult : 4.05 ms ± 39.1 µs per loop (mean ± std. dev. of 7 runs, 100 loops each)>"
      ]
     },
     "execution_count": 96,
     "metadata": {},
     "output_type": "execute_result"
    }
   ],
   "source": [
    "%%timeit -o\n",
    "l_search(list2_guest, 'Кочинян Карлен Норикович')"
   ]
  },
  {
   "cell_type": "code",
   "execution_count": 97,
   "metadata": {},
   "outputs": [],
   "source": [
    "linear_time.append(_)"
   ]
  },
  {
   "cell_type": "code",
   "execution_count": 99,
   "metadata": {},
   "outputs": [
    {
     "name": "stdout",
     "output_type": "stream",
     "text": [
      "4.71 ms ± 220 µs per loop (mean ± std. dev. of 7 runs, 100 loops each)\n"
     ]
    },
    {
     "data": {
      "text/plain": [
       "<TimeitResult : 4.71 ms ± 220 µs per loop (mean ± std. dev. of 7 runs, 100 loops each)>"
      ]
     },
     "execution_count": 99,
     "metadata": {},
     "output_type": "execute_result"
    }
   ],
   "source": [
    "%%timeit -o\n",
    "l_search(list4_guest, 'Слабуха Мария Константиновна')"
   ]
  },
  {
   "cell_type": "code",
   "execution_count": 100,
   "metadata": {},
   "outputs": [],
   "source": [
    "linear_time.append(_)"
   ]
  },
  {
   "cell_type": "code",
   "execution_count": 101,
   "metadata": {},
   "outputs": [
    {
     "name": "stdout",
     "output_type": "stream",
     "text": [
      "8.23 ms ± 602 µs per loop (mean ± std. dev. of 7 runs, 100 loops each)\n"
     ]
    },
    {
     "data": {
      "text/plain": [
       "<TimeitResult : 8.23 ms ± 602 µs per loop (mean ± std. dev. of 7 runs, 100 loops each)>"
      ]
     },
     "execution_count": 101,
     "metadata": {},
     "output_type": "execute_result"
    }
   ],
   "source": [
    "%%timeit -o\n",
    "l_search(list5_guest, 'Седых Иван Дмитриевич')"
   ]
  },
  {
   "cell_type": "code",
   "execution_count": 102,
   "metadata": {},
   "outputs": [],
   "source": [
    "linear_time.append(_)"
   ]
  },
  {
   "cell_type": "code",
   "execution_count": 103,
   "metadata": {},
   "outputs": [
    {
     "name": "stdout",
     "output_type": "stream",
     "text": [
      "12.7 ms ± 231 µs per loop (mean ± std. dev. of 7 runs, 100 loops each)\n"
     ]
    },
    {
     "data": {
      "text/plain": [
       "<TimeitResult : 12.7 ms ± 231 µs per loop (mean ± std. dev. of 7 runs, 100 loops each)>"
      ]
     },
     "execution_count": 103,
     "metadata": {},
     "output_type": "execute_result"
    }
   ],
   "source": [
    "%%timeit -o\n",
    "l_search(list6_guest, 'Хромушкин Александр Алексеевич')"
   ]
  },
  {
   "cell_type": "code",
   "execution_count": 104,
   "metadata": {},
   "outputs": [],
   "source": [
    "linear_time.append(_)"
   ]
  },
  {
   "cell_type": "code",
   "execution_count": 106,
   "metadata": {},
   "outputs": [
    {
     "name": "stdout",
     "output_type": "stream",
     "text": [
      "18.4 ms ± 1.35 ms per loop (mean ± std. dev. of 7 runs, 100 loops each)\n"
     ]
    },
    {
     "data": {
      "text/plain": [
       "<TimeitResult : 18.4 ms ± 1.35 ms per loop (mean ± std. dev. of 7 runs, 100 loops each)>"
      ]
     },
     "execution_count": 106,
     "metadata": {},
     "output_type": "execute_result"
    }
   ],
   "source": [
    "%%timeit -o\n",
    "l_search(list7_guest, 'Мазур Дарья Александровна')"
   ]
  },
  {
   "cell_type": "code",
   "execution_count": 107,
   "metadata": {},
   "outputs": [],
   "source": [
    "linear_time.append(_)"
   ]
  },
  {
   "cell_type": "code",
   "execution_count": 109,
   "metadata": {},
   "outputs": [
    {
     "name": "stdout",
     "output_type": "stream",
     "text": [
      "37.8 ms ± 1.3 ms per loop (mean ± std. dev. of 7 runs, 10 loops each)\n"
     ]
    },
    {
     "data": {
      "text/plain": [
       "<TimeitResult : 37.8 ms ± 1.3 ms per loop (mean ± std. dev. of 7 runs, 10 loops each)>"
      ]
     },
     "execution_count": 109,
     "metadata": {},
     "output_type": "execute_result"
    }
   ],
   "source": [
    "%%timeit -o\n",
    "l_search(list8_guest, 'Антонина Раужева')"
   ]
  },
  {
   "cell_type": "code",
   "execution_count": 110,
   "metadata": {},
   "outputs": [],
   "source": [
    "linear_time.append(_)"
   ]
  },
  {
   "cell_type": "code",
   "execution_count": 111,
   "metadata": {},
   "outputs": [
    {
     "name": "stdout",
     "output_type": "stream",
     "text": [
      "396 ms ± 39.7 ms per loop (mean ± std. dev. of 7 runs, 1 loop each)\n"
     ]
    },
    {
     "data": {
      "text/plain": [
       "<TimeitResult : 396 ms ± 39.7 ms per loop (mean ± std. dev. of 7 runs, 1 loop each)>"
      ]
     },
     "execution_count": 111,
     "metadata": {},
     "output_type": "execute_result"
    }
   ],
   "source": [
    "%%timeit -o\n",
    "l_search(list9_guest, 'Женя Сибилькова')"
   ]
  },
  {
   "cell_type": "code",
   "execution_count": 112,
   "metadata": {},
   "outputs": [],
   "source": [
    "linear_time.append(_)"
   ]
  },
  {
   "cell_type": "code",
   "execution_count": 113,
   "metadata": {},
   "outputs": [
    {
     "name": "stdout",
     "output_type": "stream",
     "text": [
      "5.03 s ± 1.6 s per loop (mean ± std. dev. of 7 runs, 1 loop each)\n"
     ]
    },
    {
     "data": {
      "text/plain": [
       "<TimeitResult : 5.03 s ± 1.6 s per loop (mean ± std. dev. of 7 runs, 1 loop each)>"
      ]
     },
     "execution_count": 113,
     "metadata": {},
     "output_type": "execute_result"
    }
   ],
   "source": [
    "%%timeit -o\n",
    "l_search(list10_guest, 'Сайрам Алешичев')"
   ]
  },
  {
   "cell_type": "code",
   "execution_count": 114,
   "metadata": {},
   "outputs": [],
   "source": [
    "linear_time.append(_)"
   ]
  },
  {
   "cell_type": "code",
   "execution_count": 115,
   "metadata": {},
   "outputs": [],
   "source": [
    "\"\"\"@package docstring\n",
    "In this module quick sorting algorithm is formed as a functional module. Const function.\n",
    "Input-lists are sorted by Name.\n",
    "\"\"\"\n",
    "import random\n",
    "\n",
    "def quicksort(nums):\n",
    "    if len(nums) <= 1:\n",
    "        return nums\n",
    "    else:\n",
    "        q = random.choice(nums)\n",
    "        s_nums = []\n",
    "        b_nums = []\n",
    "        e_nums = []\n",
    "        for n in nums:\n",
    "            if n < q:\n",
    "                s_nums.append(n)\n",
    "            elif n > q:\n",
    "                b_nums.append(n)\n",
    "            else:\n",
    "                e_nums.append(n)\n",
    "        return quicksort(s_nums) + e_nums + quicksort(b_nums)"
   ]
  },
  {
   "cell_type": "code",
   "execution_count": 220,
   "metadata": {},
   "outputs": [],
   "source": [
    "\"\"\"@package docstring\n",
    "In this module binary searching algorithm is formed as a functional module. Const function.\n",
    "\"\"\"\n",
    "def b_search(data, Key):\n",
    "    Key=Guest(Key,0,0,0,0)\n",
    "    mid = len(data) // 2\n",
    "    left = 0\n",
    "    right = len(data) - 1\n",
    "    while not(data[mid] == Key) and left <= right:\n",
    "        if Key > data[mid]:\n",
    "            left = mid + 1\n",
    "        else:\n",
    "            right = mid - 1\n",
    "        mid = (left + right) // 2\n",
    "    if left > right:\n",
    "        return -1\n",
    "    else:\n",
    "        Indexes = [mid]\n",
    "        i = mid-1\n",
    "        while i>0 and data[i]==Key:\n",
    "            Indexes.append(i)\n",
    "            i -= 1\n",
    "        i = mid+1\n",
    "        while i<len(data) and data[i]==Key:\n",
    "            Indexes.append(i)\n",
    "            i+=1\n",
    "        return Indexes"
   ]
  },
  {
   "cell_type": "code",
   "execution_count": 162,
   "metadata": {},
   "outputs": [
    {
     "name": "stdout",
     "output_type": "stream",
     "text": [
      "1.06 ms ± 17.3 µs per loop (mean ± std. dev. of 7 runs, 1000 loops each)\n"
     ]
    },
    {
     "data": {
      "text/plain": [
       "<TimeitResult : 1.06 ms ± 17.3 µs per loop (mean ± std. dev. of 7 runs, 1000 loops each)>"
      ]
     },
     "execution_count": 162,
     "metadata": {},
     "output_type": "execute_result"
    }
   ],
   "source": [
    "%%timeit -o\n",
    "list3_sorted = quicksort(list3_guest)\n",
    "b_search(list3_sorted, 'Бавыкина Марина Павловна')"
   ]
  },
  {
   "cell_type": "code",
   "execution_count": 165,
   "metadata": {},
   "outputs": [],
   "source": [
    "sortbinar_time.append(_)\n",
    "list3_sorted = quicksort(list3_guest)"
   ]
  },
  {
   "cell_type": "code",
   "execution_count": 173,
   "metadata": {},
   "outputs": [
    {
     "name": "stdout",
     "output_type": "stream",
     "text": [
      "7.51 µs ± 189 ns per loop (mean ± std. dev. of 7 runs, 100000 loops each)\n"
     ]
    },
    {
     "data": {
      "text/plain": [
       "<TimeitResult : 7.51 µs ± 189 ns per loop (mean ± std. dev. of 7 runs, 100000 loops each)>"
      ]
     },
     "execution_count": 173,
     "metadata": {},
     "output_type": "execute_result"
    }
   ],
   "source": [
    "%%timeit -o\n",
    "b_search(list3_sorted, 'Бавыкина Марина Павловна')"
   ]
  },
  {
   "cell_type": "code",
   "execution_count": 174,
   "metadata": {},
   "outputs": [],
   "source": [
    "binar_time.append(_)"
   ]
  },
  {
   "cell_type": "code",
   "execution_count": 138,
   "metadata": {},
   "outputs": [
    {
     "name": "stdout",
     "output_type": "stream",
     "text": [
      "1.15 ms ± 82.7 µs per loop (mean ± std. dev. of 7 runs, 1000 loops each)\n"
     ]
    },
    {
     "data": {
      "text/plain": [
       "<TimeitResult : 1.15 ms ± 82.7 µs per loop (mean ± std. dev. of 7 runs, 1000 loops each)>"
      ]
     },
     "execution_count": 138,
     "metadata": {},
     "output_type": "execute_result"
    }
   ],
   "source": [
    "%%timeit -o\n",
    "list1_sorted = quicksort(list1_guest)\n",
    "b_search(list1_sorted, 'Нугманов Артур Маратович')"
   ]
  },
  {
   "cell_type": "code",
   "execution_count": 139,
   "metadata": {},
   "outputs": [],
   "source": [
    "sortbinar_time.append(_)\n",
    "list1_sorted = quicksort(list1_guest)"
   ]
  },
  {
   "cell_type": "code",
   "execution_count": 140,
   "metadata": {},
   "outputs": [
    {
     "name": "stdout",
     "output_type": "stream",
     "text": [
      "6.14 µs ± 537 ns per loop (mean ± std. dev. of 7 runs, 100000 loops each)\n"
     ]
    },
    {
     "data": {
      "text/plain": [
       "<TimeitResult : 6.14 µs ± 537 ns per loop (mean ± std. dev. of 7 runs, 100000 loops each)>"
      ]
     },
     "execution_count": 140,
     "metadata": {},
     "output_type": "execute_result"
    }
   ],
   "source": [
    "%%timeit -o\n",
    "b_search(list1_sorted, 'Нугманов Артур Маратович')"
   ]
  },
  {
   "cell_type": "code",
   "execution_count": 141,
   "metadata": {},
   "outputs": [],
   "source": [
    "binar_time.append(_)"
   ]
  },
  {
   "cell_type": "code",
   "execution_count": 155,
   "metadata": {},
   "outputs": [
    {
     "name": "stdout",
     "output_type": "stream",
     "text": [
      "1.15 ms ± 11.2 µs per loop (mean ± std. dev. of 7 runs, 1000 loops each)\n"
     ]
    },
    {
     "data": {
      "text/plain": [
       "<TimeitResult : 1.15 ms ± 11.2 µs per loop (mean ± std. dev. of 7 runs, 1000 loops each)>"
      ]
     },
     "execution_count": 155,
     "metadata": {},
     "output_type": "execute_result"
    }
   ],
   "source": [
    "%%timeit -o\n",
    "list2_sorted = quicksort(list2_guest)\n",
    "b_search(list2_sorted, 'Кочинян Карлен Норикович')"
   ]
  },
  {
   "cell_type": "code",
   "execution_count": 156,
   "metadata": {},
   "outputs": [],
   "source": [
    "sortbinar_time.append(_)\n",
    "list2_sorted = quicksort(list2_guest)"
   ]
  },
  {
   "cell_type": "code",
   "execution_count": 153,
   "metadata": {},
   "outputs": [
    {
     "name": "stdout",
     "output_type": "stream",
     "text": [
      "8.77 µs ± 162 ns per loop (mean ± std. dev. of 7 runs, 100000 loops each)\n"
     ]
    },
    {
     "data": {
      "text/plain": [
       "<TimeitResult : 8.77 µs ± 162 ns per loop (mean ± std. dev. of 7 runs, 100000 loops each)>"
      ]
     },
     "execution_count": 153,
     "metadata": {},
     "output_type": "execute_result"
    }
   ],
   "source": [
    "%%timeit -o\n",
    "b_search(list2_sorted, 'Кочинян Карлен Норикович')"
   ]
  },
  {
   "cell_type": "code",
   "execution_count": 154,
   "metadata": {},
   "outputs": [],
   "source": [
    "binar_time.append(_)"
   ]
  },
  {
   "cell_type": "code",
   "execution_count": 177,
   "metadata": {},
   "outputs": [
    {
     "name": "stdout",
     "output_type": "stream",
     "text": [
      "1.41 ms ± 94.9 µs per loop (mean ± std. dev. of 7 runs, 1000 loops each)\n"
     ]
    },
    {
     "data": {
      "text/plain": [
       "<TimeitResult : 1.41 ms ± 94.9 µs per loop (mean ± std. dev. of 7 runs, 1000 loops each)>"
      ]
     },
     "execution_count": 177,
     "metadata": {},
     "output_type": "execute_result"
    }
   ],
   "source": [
    "%%timeit -o\n",
    "list4_sorted = quicksort(list4_guest)\n",
    "b_search(list4_sorted, 'Слабуха Мария Константиновна')"
   ]
  },
  {
   "cell_type": "code",
   "execution_count": 178,
   "metadata": {},
   "outputs": [],
   "source": [
    "sortbinar_time.append(_)\n",
    "list4_sorted = quicksort(list4_guest)"
   ]
  },
  {
   "cell_type": "code",
   "execution_count": 179,
   "metadata": {},
   "outputs": [
    {
     "name": "stdout",
     "output_type": "stream",
     "text": [
      "7.45 µs ± 536 ns per loop (mean ± std. dev. of 7 runs, 100000 loops each)\n"
     ]
    },
    {
     "data": {
      "text/plain": [
       "<TimeitResult : 7.45 µs ± 536 ns per loop (mean ± std. dev. of 7 runs, 100000 loops each)>"
      ]
     },
     "execution_count": 179,
     "metadata": {},
     "output_type": "execute_result"
    }
   ],
   "source": [
    "%%timeit -o\n",
    "b_search(list4_sorted, 'Слабуха Мария Константиновна')"
   ]
  },
  {
   "cell_type": "code",
   "execution_count": 180,
   "metadata": {},
   "outputs": [],
   "source": [
    "binar_time.append(_)"
   ]
  },
  {
   "cell_type": "code",
   "execution_count": 181,
   "metadata": {},
   "outputs": [
    {
     "name": "stdout",
     "output_type": "stream",
     "text": [
      "2.51 ms ± 102 µs per loop (mean ± std. dev. of 7 runs, 100 loops each)\n"
     ]
    },
    {
     "data": {
      "text/plain": [
       "<TimeitResult : 2.51 ms ± 102 µs per loop (mean ± std. dev. of 7 runs, 100 loops each)>"
      ]
     },
     "execution_count": 181,
     "metadata": {},
     "output_type": "execute_result"
    }
   ],
   "source": [
    "%%timeit -o\n",
    "list5_sorted = quicksort(list5_guest)\n",
    "b_search(list5_sorted, 'Седых Иван Дмитриевич')"
   ]
  },
  {
   "cell_type": "code",
   "execution_count": 182,
   "metadata": {},
   "outputs": [],
   "source": [
    "sortbinar_time.append(_)\n",
    "list5_sorted = quicksort(list5_guest)"
   ]
  },
  {
   "cell_type": "code",
   "execution_count": 183,
   "metadata": {},
   "outputs": [
    {
     "name": "stdout",
     "output_type": "stream",
     "text": [
      "9.35 µs ± 390 ns per loop (mean ± std. dev. of 7 runs, 100000 loops each)\n"
     ]
    },
    {
     "data": {
      "text/plain": [
       "<TimeitResult : 9.35 µs ± 390 ns per loop (mean ± std. dev. of 7 runs, 100000 loops each)>"
      ]
     },
     "execution_count": 183,
     "metadata": {},
     "output_type": "execute_result"
    }
   ],
   "source": [
    "%%timeit -o\n",
    "b_search(list5_sorted, 'Седых Иван Дмитриевич')"
   ]
  },
  {
   "cell_type": "code",
   "execution_count": 184,
   "metadata": {},
   "outputs": [],
   "source": [
    "binar_time.append(_)"
   ]
  },
  {
   "cell_type": "code",
   "execution_count": 185,
   "metadata": {},
   "outputs": [
    {
     "name": "stdout",
     "output_type": "stream",
     "text": [
      "4.3 ms ± 164 µs per loop (mean ± std. dev. of 7 runs, 100 loops each)\n"
     ]
    },
    {
     "data": {
      "text/plain": [
       "<TimeitResult : 4.3 ms ± 164 µs per loop (mean ± std. dev. of 7 runs, 100 loops each)>"
      ]
     },
     "execution_count": 185,
     "metadata": {},
     "output_type": "execute_result"
    }
   ],
   "source": [
    "%%timeit -o\n",
    "list6_sorted = quicksort(list6_guest)\n",
    "b_search(list6_sorted, 'Хромушкин Александр Алексеевич')"
   ]
  },
  {
   "cell_type": "code",
   "execution_count": 186,
   "metadata": {},
   "outputs": [],
   "source": [
    "sortbinar_time.append(_)\n",
    "list6_sorted = quicksort(list6_guest)"
   ]
  },
  {
   "cell_type": "code",
   "execution_count": 187,
   "metadata": {},
   "outputs": [
    {
     "name": "stdout",
     "output_type": "stream",
     "text": [
      "10.2 µs ± 623 ns per loop (mean ± std. dev. of 7 runs, 100000 loops each)\n"
     ]
    },
    {
     "data": {
      "text/plain": [
       "<TimeitResult : 10.2 µs ± 623 ns per loop (mean ± std. dev. of 7 runs, 100000 loops each)>"
      ]
     },
     "execution_count": 187,
     "metadata": {},
     "output_type": "execute_result"
    }
   ],
   "source": [
    "%%timeit -o\n",
    "b_search(list6_sorted, 'Хромушкин Александр Алексеевич')"
   ]
  },
  {
   "cell_type": "code",
   "execution_count": 188,
   "metadata": {},
   "outputs": [],
   "source": [
    "binar_time.append(_)"
   ]
  },
  {
   "cell_type": "code",
   "execution_count": 190,
   "metadata": {},
   "outputs": [
    {
     "name": "stdout",
     "output_type": "stream",
     "text": [
      "5.74 ms ± 565 µs per loop (mean ± std. dev. of 7 runs, 100 loops each)\n"
     ]
    },
    {
     "data": {
      "text/plain": [
       "<TimeitResult : 5.74 ms ± 565 µs per loop (mean ± std. dev. of 7 runs, 100 loops each)>"
      ]
     },
     "execution_count": 190,
     "metadata": {},
     "output_type": "execute_result"
    }
   ],
   "source": [
    "%%timeit -o\n",
    "list7_sorted = quicksort(list7_guest)\n",
    "b_search(list7_sorted, 'Мазур Дарья Александровна')"
   ]
  },
  {
   "cell_type": "code",
   "execution_count": 191,
   "metadata": {},
   "outputs": [],
   "source": [
    "sortbinar_time.append(_)\n",
    "list7_sorted = quicksort(list7_guest)"
   ]
  },
  {
   "cell_type": "code",
   "execution_count": 192,
   "metadata": {},
   "outputs": [
    {
     "name": "stdout",
     "output_type": "stream",
     "text": [
      "11.6 µs ± 408 ns per loop (mean ± std. dev. of 7 runs, 100000 loops each)\n"
     ]
    },
    {
     "data": {
      "text/plain": [
       "<TimeitResult : 11.6 µs ± 408 ns per loop (mean ± std. dev. of 7 runs, 100000 loops each)>"
      ]
     },
     "execution_count": 192,
     "metadata": {},
     "output_type": "execute_result"
    }
   ],
   "source": [
    "%%timeit -o\n",
    "b_search(list7_sorted, 'Мазур Дарья Александровна')"
   ]
  },
  {
   "cell_type": "code",
   "execution_count": 193,
   "metadata": {},
   "outputs": [],
   "source": [
    "binar_time.append(_)"
   ]
  },
  {
   "cell_type": "code",
   "execution_count": 194,
   "metadata": {},
   "outputs": [
    {
     "name": "stdout",
     "output_type": "stream",
     "text": [
      "13.4 ms ± 903 µs per loop (mean ± std. dev. of 7 runs, 100 loops each)\n"
     ]
    },
    {
     "data": {
      "text/plain": [
       "<TimeitResult : 13.4 ms ± 903 µs per loop (mean ± std. dev. of 7 runs, 100 loops each)>"
      ]
     },
     "execution_count": 194,
     "metadata": {},
     "output_type": "execute_result"
    }
   ],
   "source": [
    "%%timeit -o\n",
    "list8_sorted = quicksort(list8_guest)\n",
    "b_search(list8_sorted, 'Антонина Раужева')"
   ]
  },
  {
   "cell_type": "code",
   "execution_count": 195,
   "metadata": {},
   "outputs": [],
   "source": [
    "sortbinar_time.append(_)\n",
    "list8_sorted = quicksort(list8_guest)"
   ]
  },
  {
   "cell_type": "code",
   "execution_count": 196,
   "metadata": {},
   "outputs": [
    {
     "name": "stdout",
     "output_type": "stream",
     "text": [
      "12.5 µs ± 137 ns per loop (mean ± std. dev. of 7 runs, 100000 loops each)\n"
     ]
    },
    {
     "data": {
      "text/plain": [
       "<TimeitResult : 12.5 µs ± 137 ns per loop (mean ± std. dev. of 7 runs, 100000 loops each)>"
      ]
     },
     "execution_count": 196,
     "metadata": {},
     "output_type": "execute_result"
    }
   ],
   "source": [
    "%%timeit -o\n",
    "b_search(list8_sorted, 'Антонина Раужева')"
   ]
  },
  {
   "cell_type": "code",
   "execution_count": 197,
   "metadata": {},
   "outputs": [],
   "source": [
    "binar_time.append(_)"
   ]
  },
  {
   "cell_type": "code",
   "execution_count": 198,
   "metadata": {},
   "outputs": [
    {
     "name": "stdout",
     "output_type": "stream",
     "text": [
      "191 ms ± 12.5 ms per loop (mean ± std. dev. of 7 runs, 1 loop each)\n"
     ]
    },
    {
     "data": {
      "text/plain": [
       "<TimeitResult : 191 ms ± 12.5 ms per loop (mean ± std. dev. of 7 runs, 1 loop each)>"
      ]
     },
     "execution_count": 198,
     "metadata": {},
     "output_type": "execute_result"
    }
   ],
   "source": [
    "%%timeit -o\n",
    "list9_sorted = quicksort(list9_guest)\n",
    "b_search(list9_sorted, 'Женя Сибилькова')"
   ]
  },
  {
   "cell_type": "code",
   "execution_count": 199,
   "metadata": {},
   "outputs": [],
   "source": [
    "sortbinar_time.append(_)\n",
    "list9_sorted = quicksort(list9_guest)"
   ]
  },
  {
   "cell_type": "code",
   "execution_count": 200,
   "metadata": {},
   "outputs": [
    {
     "name": "stdout",
     "output_type": "stream",
     "text": [
      "16.7 µs ± 93.9 ns per loop (mean ± std. dev. of 7 runs, 100000 loops each)\n"
     ]
    },
    {
     "data": {
      "text/plain": [
       "<TimeitResult : 16.7 µs ± 93.9 ns per loop (mean ± std. dev. of 7 runs, 100000 loops each)>"
      ]
     },
     "execution_count": 200,
     "metadata": {},
     "output_type": "execute_result"
    }
   ],
   "source": [
    "%%timeit -o\n",
    "b_search(list9_sorted, 'Женя Сибилькова')"
   ]
  },
  {
   "cell_type": "code",
   "execution_count": 201,
   "metadata": {},
   "outputs": [],
   "source": [
    "binar_time.append(_)"
   ]
  },
  {
   "cell_type": "code",
   "execution_count": 202,
   "metadata": {},
   "outputs": [
    {
     "name": "stdout",
     "output_type": "stream",
     "text": [
      "2.53 s ± 108 ms per loop (mean ± std. dev. of 7 runs, 1 loop each)\n"
     ]
    },
    {
     "data": {
      "text/plain": [
       "<TimeitResult : 2.53 s ± 108 ms per loop (mean ± std. dev. of 7 runs, 1 loop each)>"
      ]
     },
     "execution_count": 202,
     "metadata": {},
     "output_type": "execute_result"
    }
   ],
   "source": [
    "%%timeit -o\n",
    "list10_sorted = quicksort(list10_guest)\n",
    "b_search(list10_sorted, 'Сайрам Алешичев')"
   ]
  },
  {
   "cell_type": "code",
   "execution_count": 203,
   "metadata": {},
   "outputs": [],
   "source": [
    "sortbinar_time.append(_)\n",
    "list10_sorted = quicksort(list10_guest)"
   ]
  },
  {
   "cell_type": "code",
   "execution_count": 204,
   "metadata": {},
   "outputs": [
    {
     "name": "stdout",
     "output_type": "stream",
     "text": [
      "24.4 µs ± 4.77 µs per loop (mean ± std. dev. of 7 runs, 10000 loops each)\n"
     ]
    },
    {
     "data": {
      "text/plain": [
       "<TimeitResult : 24.4 µs ± 4.77 µs per loop (mean ± std. dev. of 7 runs, 10000 loops each)>"
      ]
     },
     "execution_count": 204,
     "metadata": {},
     "output_type": "execute_result"
    }
   ],
   "source": [
    "%%timeit -o\n",
    "b_search(list10_sorted, 'Сайрам Алешичев')"
   ]
  },
  {
   "cell_type": "code",
   "execution_count": 205,
   "metadata": {},
   "outputs": [],
   "source": [
    "binar_time.append(_)"
   ]
  },
  {
   "cell_type": "code",
   "execution_count": 233,
   "metadata": {},
   "outputs": [],
   "source": [
    "\"\"\"@package docstring\n",
    "In this module data is saved in a dictionary<key, object=Guest>.\n",
    "\"\"\"\n",
    "\n",
    "list1_dict = {list1_guest[a].Name: list1_guest[a] for a in range(len(list1_guest))}\n",
    "list2_dict = {list2_guest[a].Name: list2_guest[a] for a in range(len(list2_guest))}\n",
    "list3_dict = {list3_guest[a].Name: list3_guest[a] for a in range(len(list3_guest))}\n",
    "list4_dict = {list4_guest[a].Name: list4_guest[a] for a in range(len(list4_guest))}\n",
    "list5_dict = {list5_guest[a].Name: list5_guest[a] for a in range(len(list5_guest))}\n",
    "list6_dict = {list6_guest[a].Name: list6_guest[a] for a in range(len(list6_guest))}\n",
    "list7_dict = {list7_guest[a].Name: list7_guest[a] for a in range(len(list7_guest))}\n",
    "list8_dict = {list8_guest[a].Name: list8_guest[a] for a in range(len(list8_guest))}\n",
    "list9_dict = {list9_guest[a].Name: list9_guest[a] for a in range(len(list9_guest))}\n",
    "list10_dict = {list10_guest[a].Name: list10_guest[a] for a in range(len(list10_guest))}\n",
    "\n",
    "dict_time = []"
   ]
  },
  {
   "cell_type": "code",
   "execution_count": 238,
   "metadata": {},
   "outputs": [
    {
     "name": "stdout",
     "output_type": "stream",
     "text": [
      "210 ns ± 7.32 ns per loop (mean ± std. dev. of 7 runs, 1000000 loops each)\n"
     ]
    },
    {
     "data": {
      "text/plain": [
       "<TimeitResult : 210 ns ± 7.32 ns per loop (mean ± std. dev. of 7 runs, 1000000 loops each)>"
      ]
     },
     "execution_count": 238,
     "metadata": {},
     "output_type": "execute_result"
    }
   ],
   "source": [
    "%%timeit -o\n",
    "list3_dict.get('Бавыкина Марина Павловна')"
   ]
  },
  {
   "cell_type": "code",
   "execution_count": 239,
   "metadata": {},
   "outputs": [],
   "source": [
    "dict_time.append(_)"
   ]
  },
  {
   "cell_type": "code",
   "execution_count": 240,
   "metadata": {},
   "outputs": [
    {
     "name": "stdout",
     "output_type": "stream",
     "text": [
      "165 ns ± 2.87 ns per loop (mean ± std. dev. of 7 runs, 10000000 loops each)\n"
     ]
    },
    {
     "data": {
      "text/plain": [
       "<TimeitResult : 165 ns ± 2.87 ns per loop (mean ± std. dev. of 7 runs, 10000000 loops each)>"
      ]
     },
     "execution_count": 240,
     "metadata": {},
     "output_type": "execute_result"
    }
   ],
   "source": [
    "%%timeit -o\n",
    "list1_dict.get('Нугманов Артур Маратович')"
   ]
  },
  {
   "cell_type": "code",
   "execution_count": 241,
   "metadata": {},
   "outputs": [],
   "source": [
    "dict_time.append(_)"
   ]
  },
  {
   "cell_type": "code",
   "execution_count": 242,
   "metadata": {},
   "outputs": [
    {
     "name": "stdout",
     "output_type": "stream",
     "text": [
      "168 ns ± 1.18 ns per loop (mean ± std. dev. of 7 runs, 10000000 loops each)\n"
     ]
    },
    {
     "data": {
      "text/plain": [
       "<TimeitResult : 168 ns ± 1.18 ns per loop (mean ± std. dev. of 7 runs, 10000000 loops each)>"
      ]
     },
     "execution_count": 242,
     "metadata": {},
     "output_type": "execute_result"
    }
   ],
   "source": [
    "%%timeit -o\n",
    "list2_dict.get('Кочинян Карлен Норикович')"
   ]
  },
  {
   "cell_type": "code",
   "execution_count": 243,
   "metadata": {},
   "outputs": [],
   "source": [
    "dict_time.append(_)"
   ]
  },
  {
   "cell_type": "code",
   "execution_count": 244,
   "metadata": {},
   "outputs": [
    {
     "name": "stdout",
     "output_type": "stream",
     "text": [
      "184 ns ± 2.47 ns per loop (mean ± std. dev. of 7 runs, 10000000 loops each)\n"
     ]
    },
    {
     "data": {
      "text/plain": [
       "<TimeitResult : 184 ns ± 2.47 ns per loop (mean ± std. dev. of 7 runs, 10000000 loops each)>"
      ]
     },
     "execution_count": 244,
     "metadata": {},
     "output_type": "execute_result"
    }
   ],
   "source": [
    "%%timeit -o\n",
    "list4_dict.get('Слабуха Мария Константиновна')"
   ]
  },
  {
   "cell_type": "code",
   "execution_count": 245,
   "metadata": {},
   "outputs": [],
   "source": [
    "dict_time.append(_)"
   ]
  },
  {
   "cell_type": "code",
   "execution_count": 246,
   "metadata": {},
   "outputs": [
    {
     "name": "stdout",
     "output_type": "stream",
     "text": [
      "167 ns ± 3.17 ns per loop (mean ± std. dev. of 7 runs, 10000000 loops each)\n"
     ]
    },
    {
     "data": {
      "text/plain": [
       "<TimeitResult : 167 ns ± 3.17 ns per loop (mean ± std. dev. of 7 runs, 10000000 loops each)>"
      ]
     },
     "execution_count": 246,
     "metadata": {},
     "output_type": "execute_result"
    }
   ],
   "source": [
    "%%timeit -o\n",
    "list5_dict.get('Седых Иван Дмитриевич')"
   ]
  },
  {
   "cell_type": "code",
   "execution_count": 247,
   "metadata": {},
   "outputs": [],
   "source": [
    "dict_time.append(_)"
   ]
  },
  {
   "cell_type": "code",
   "execution_count": 248,
   "metadata": {},
   "outputs": [
    {
     "name": "stdout",
     "output_type": "stream",
     "text": [
      "172 ns ± 8.34 ns per loop (mean ± std. dev. of 7 runs, 10000000 loops each)\n"
     ]
    },
    {
     "data": {
      "text/plain": [
       "<TimeitResult : 172 ns ± 8.34 ns per loop (mean ± std. dev. of 7 runs, 10000000 loops each)>"
      ]
     },
     "execution_count": 248,
     "metadata": {},
     "output_type": "execute_result"
    }
   ],
   "source": [
    "%%timeit -o\n",
    "list6_dict.get('Хромушкин Александр Алексеевич')"
   ]
  },
  {
   "cell_type": "code",
   "execution_count": 249,
   "metadata": {},
   "outputs": [],
   "source": [
    "dict_time.append(_)"
   ]
  },
  {
   "cell_type": "code",
   "execution_count": 250,
   "metadata": {},
   "outputs": [
    {
     "name": "stdout",
     "output_type": "stream",
     "text": [
      "166 ns ± 1.98 ns per loop (mean ± std. dev. of 7 runs, 10000000 loops each)\n"
     ]
    },
    {
     "data": {
      "text/plain": [
       "<TimeitResult : 166 ns ± 1.98 ns per loop (mean ± std. dev. of 7 runs, 10000000 loops each)>"
      ]
     },
     "execution_count": 250,
     "metadata": {},
     "output_type": "execute_result"
    }
   ],
   "source": [
    "%%timeit -o\n",
    "list7_dict.get('Мазур Дарья Александровна')"
   ]
  },
  {
   "cell_type": "code",
   "execution_count": 251,
   "metadata": {},
   "outputs": [],
   "source": [
    "dict_time.append(_)"
   ]
  },
  {
   "cell_type": "code",
   "execution_count": 252,
   "metadata": {},
   "outputs": [
    {
     "name": "stdout",
     "output_type": "stream",
     "text": [
      "173 ns ± 8.76 ns per loop (mean ± std. dev. of 7 runs, 10000000 loops each)\n"
     ]
    },
    {
     "data": {
      "text/plain": [
       "<TimeitResult : 173 ns ± 8.76 ns per loop (mean ± std. dev. of 7 runs, 10000000 loops each)>"
      ]
     },
     "execution_count": 252,
     "metadata": {},
     "output_type": "execute_result"
    }
   ],
   "source": [
    "%%timeit -o\n",
    "list8_dict.get('Антонина Раужева')"
   ]
  },
  {
   "cell_type": "code",
   "execution_count": 253,
   "metadata": {},
   "outputs": [],
   "source": [
    "dict_time.append(_)"
   ]
  },
  {
   "cell_type": "code",
   "execution_count": 254,
   "metadata": {},
   "outputs": [
    {
     "name": "stdout",
     "output_type": "stream",
     "text": [
      "185 ns ± 9.46 ns per loop (mean ± std. dev. of 7 runs, 1000000 loops each)\n"
     ]
    },
    {
     "data": {
      "text/plain": [
       "<TimeitResult : 185 ns ± 9.46 ns per loop (mean ± std. dev. of 7 runs, 1000000 loops each)>"
      ]
     },
     "execution_count": 254,
     "metadata": {},
     "output_type": "execute_result"
    }
   ],
   "source": [
    "%%timeit -o\n",
    "list9_dict.get('Женя Сибилькова')"
   ]
  },
  {
   "cell_type": "code",
   "execution_count": 255,
   "metadata": {},
   "outputs": [],
   "source": [
    "dict_time.append(_)"
   ]
  },
  {
   "cell_type": "code",
   "execution_count": 256,
   "metadata": {},
   "outputs": [
    {
     "name": "stdout",
     "output_type": "stream",
     "text": [
      "175 ns ± 3.85 ns per loop (mean ± std. dev. of 7 runs, 10000000 loops each)\n"
     ]
    },
    {
     "data": {
      "text/plain": [
       "<TimeitResult : 175 ns ± 3.85 ns per loop (mean ± std. dev. of 7 runs, 10000000 loops each)>"
      ]
     },
     "execution_count": 256,
     "metadata": {},
     "output_type": "execute_result"
    }
   ],
   "source": [
    "%%timeit -o\n",
    "list10_dict.get('Сайрам Алешичев')"
   ]
  },
  {
   "cell_type": "code",
   "execution_count": 257,
   "metadata": {},
   "outputs": [],
   "source": [
    "dict_time.append(_)"
   ]
  },
  {
   "cell_type": "code",
   "execution_count": 263,
   "metadata": {},
   "outputs": [
    {
     "data": {
      "image/png": "[encoded data removed]",
      "text/plain": [
       "<Figure size 432x288 with 1 Axes>"
      ]
     },
     "metadata": {
      "needs_background": "light"
     },
     "output_type": "display_data"
    }
   ],
   "source": [
    "\"\"\"@package docstring\n",
    "In this module graph is created to visualy compare the speed difference between searching algorithms. Log scale.\n",
    "\"\"\"\n",
    "import matplotlib.pyplot as plt\n",
    "dims = list(map(len, [list3_guest,list1_guest, list2_guest, list4_guest, list5_guest, list6_guest, list7_guest , list8_guest, list9_guest, list10_guest]))\n",
    "fig = plt.figure()\n",
    "ax = fig.add_subplot(1,1, 1)\n",
    "\n",
    "linear_time_ = [4230, 3900,4050,4710,8230,12700,18400,37800,396000,5030000]\n",
    "binar_time_ = [ 7.51,6.14 ,8.77,7.45,9.35,10.2,11.6,12.5,16.7,24.4]\n",
    "sortbinar_time_ = [1060,1150,1150,1410,2510,4300,5740,13400,191000,2530000]\n",
    "dict_time_ = [0.210,0.165,0.168,0.184,0.167,0.172,0.166,0.173,0.185,0.175]\n",
    "\n",
    "plt.plot(dims, linear_time_, ':g', lw=1, alpha=0.6, label='linear')\n",
    "plt.plot(dims, binar_time_, '--r', lw=2, alpha=0.8, label='binar')\n",
    "plt.plot(dims, sortbinar_time_, '-.b', lw=2, alpha=0.8, label='sort+binar')\n",
    "plt.plot(dims, dict_time_, '-.g', lw=2, alpha=0.8, label='dict')\n",
    "plt.legend(loc='upper left', frameon=True)\n",
    "plt.xlabel('series\\' dimensions')\n",
    "plt.ylabel('searching time, µs')\n",
    "ax.set_yscale('log')\n",
    "plt.show()"
   ]
  },
  {
   "cell_type": "code",
   "execution_count": 261,
   "metadata": {},
   "outputs": [
    {
     "data": {
      "image/png": "[encoded data removed]",
      "text/plain": [
       "<Figure size 432x288 with 1 Axes>"
      ]
     },
     "metadata": {
      "needs_background": "light"
     },
     "output_type": "display_data"
    }
   ],
   "source": [
    "\"\"\"@package docstring\n",
    "In this module graph is created to visualy compare the speed difference between searching algorithms. Normal scale.\n",
    "\"\"\"\n",
    "plt.plot(dims, linear_time_, ':g', lw=1, alpha=0.6, label='linear')\n",
    "plt.plot(dims, binar_time_, '--r', lw=2, alpha=0.8, label='binar')\n",
    "plt.plot(dims, sortbinar_time_, '-.b', lw=2, alpha=0.8, label='sort+binar')\n",
    "plt.plot(dims, dict_time_, '-.g', lw=2, alpha=0.8, label='dict')\n",
    "plt.legend(loc='upper left', frameon=True)\n",
    "plt.xlabel('series\\' dimensions')\n",
    "plt.ylabel('searching time, µs')\n",
    "plt.show()"
   ]
  },
  {
   "cell_type": "code",
   "execution_count": 213,
   "metadata": {},
   "outputs": [
    {
     "data": {
      "text/plain": [
       "[<TimeitResult : 4.23 ms ± 793 µs per loop (mean ± std. dev. of 7 runs, 100 loops each)>,\n",
       " <TimeitResult : 3.9 ms ± 67.8 µs per loop (mean ± std. dev. of 7 runs, 100 loops each)>,\n",
       " <TimeitResult : 4.05 ms ± 39.1 µs per loop (mean ± std. dev. of 7 runs, 100 loops each)>,\n",
       " <TimeitResult : 4.71 ms ± 220 µs per loop (mean ± std. dev. of 7 runs, 100 loops each)>,\n",
       " <TimeitResult : 8.23 ms ± 602 µs per loop (mean ± std. dev. of 7 runs, 100 loops each)>,\n",
       " <TimeitResult : 12.7 ms ± 231 µs per loop (mean ± std. dev. of 7 runs, 100 loops each)>,\n",
       " <TimeitResult : 18.4 ms ± 1.35 ms per loop (mean ± std. dev. of 7 runs, 100 loops each)>,\n",
       " <TimeitResult : 37.8 ms ± 1.3 ms per loop (mean ± std. dev. of 7 runs, 10 loops each)>,\n",
       " <TimeitResult : 396 ms ± 39.7 ms per loop (mean ± std. dev. of 7 runs, 1 loop each)>,\n",
       " <TimeitResult : 5.03 s ± 1.6 s per loop (mean ± std. dev. of 7 runs, 1 loop each)>]"
      ]
     },
     "execution_count": 213,
     "metadata": {},
     "output_type": "execute_result"
    }
   ],
   "source": [
    "linear_time"
   ]
  },
  {
   "cell_type": "code",
   "execution_count": 206,
   "metadata": {},
   "outputs": [
    {
     "data": {
      "text/plain": [
       "[<TimeitResult : 1.06 ms ± 17.3 µs per loop (mean ± std. dev. of 7 runs, 1000 loops each)>,\n",
       " <TimeitResult : 1.15 ms ± 82.7 µs per loop (mean ± std. dev. of 7 runs, 1000 loops each)>,\n",
       " <TimeitResult : 1.15 ms ± 11.2 µs per loop (mean ± std. dev. of 7 runs, 1000 loops each)>,\n",
       " <TimeitResult : 1.41 ms ± 94.9 µs per loop (mean ± std. dev. of 7 runs, 1000 loops each)>,\n",
       " <TimeitResult : 2.51 ms ± 102 µs per loop (mean ± std. dev. of 7 runs, 100 loops each)>,\n",
       " <TimeitResult : 4.3 ms ± 164 µs per loop (mean ± std. dev. of 7 runs, 100 loops each)>,\n",
       " <TimeitResult : 5.74 ms ± 565 µs per loop (mean ± std. dev. of 7 runs, 100 loops each)>,\n",
       " <TimeitResult : 13.4 ms ± 903 µs per loop (mean ± std. dev. of 7 runs, 100 loops each)>,\n",
       " <TimeitResult : 191 ms ± 12.5 ms per loop (mean ± std. dev. of 7 runs, 1 loop each)>,\n",
       " <TimeitResult : 2.53 s ± 108 ms per loop (mean ± std. dev. of 7 runs, 1 loop each)>]"
      ]
     },
     "execution_count": 206,
     "metadata": {},
     "output_type": "execute_result"
    }
   ],
   "source": [
    "sortbinar_time"
   ]
  },
  {
   "cell_type": "code",
   "execution_count": 207,
   "metadata": {},
   "outputs": [
    {
     "data": {
      "text/plain": [
       "[<TimeitResult : 7.51 µs ± 189 ns per loop (mean ± std. dev. of 7 runs, 100000 loops each)>,\n",
       " <TimeitResult : 6.14 µs ± 537 ns per loop (mean ± std. dev. of 7 runs, 100000 loops each)>,\n",
       " <TimeitResult : 8.77 µs ± 162 ns per loop (mean ± std. dev. of 7 runs, 100000 loops each)>,\n",
       " <TimeitResult : 7.45 µs ± 536 ns per loop (mean ± std. dev. of 7 runs, 100000 loops each)>,\n",
       " <TimeitResult : 9.35 µs ± 390 ns per loop (mean ± std. dev. of 7 runs, 100000 loops each)>,\n",
       " <TimeitResult : 10.2 µs ± 623 ns per loop (mean ± std. dev. of 7 runs, 100000 loops each)>,\n",
       " <TimeitResult : 11.6 µs ± 408 ns per loop (mean ± std. dev. of 7 runs, 100000 loops each)>,\n",
       " <TimeitResult : 12.5 µs ± 137 ns per loop (mean ± std. dev. of 7 runs, 100000 loops each)>,\n",
       " <TimeitResult : 16.7 µs ± 93.9 ns per loop (mean ± std. dev. of 7 runs, 100000 loops each)>,\n",
       " <TimeitResult : 24.4 µs ± 4.77 µs per loop (mean ± std. dev. of 7 runs, 10000 loops each)>]"
      ]
     },
     "execution_count": 207,
     "metadata": {},
     "output_type": "execute_result"
    }
   ],
   "source": [
    "binar_time"
   ]
  },
  {
   "cell_type": "code",
   "execution_count": 258,
   "metadata": {},
   "outputs": [
    {
     "data": {
      "text/plain": [
       "[<TimeitResult : 210 ns ± 7.32 ns per loop (mean ± std. dev. of 7 runs, 1000000 loops each)>,\n",
       " <TimeitResult : 165 ns ± 2.87 ns per loop (mean ± std. dev. of 7 runs, 10000000 loops each)>,\n",
       " <TimeitResult : 168 ns ± 1.18 ns per loop (mean ± std. dev. of 7 runs, 10000000 loops each)>,\n",
       " <TimeitResult : 184 ns ± 2.47 ns per loop (mean ± std. dev. of 7 runs, 10000000 loops each)>,\n",
       " <TimeitResult : 167 ns ± 3.17 ns per loop (mean ± std. dev. of 7 runs, 10000000 loops each)>,\n",
       " <TimeitResult : 172 ns ± 8.34 ns per loop (mean ± std. dev. of 7 runs, 10000000 loops each)>,\n",
       " <TimeitResult : 166 ns ± 1.98 ns per loop (mean ± std. dev. of 7 runs, 10000000 loops each)>,\n",
       " <TimeitResult : 173 ns ± 8.76 ns per loop (mean ± std. dev. of 7 runs, 10000000 loops each)>,\n",
       " <TimeitResult : 185 ns ± 9.46 ns per loop (mean ± std. dev. of 7 runs, 1000000 loops each)>,\n",
       " <TimeitResult : 175 ns ± 3.85 ns per loop (mean ± std. dev. of 7 runs, 10000000 loops each)>]"
      ]
     },
     "execution_count": 258,
     "metadata": {},
     "output_type": "execute_result"
    }
   ],
   "source": [
    "dict_time"
   ]
  },
  {
   "cell_type": "code",
   "execution_count": null,
   "metadata": {},
   "outputs": [],
   "source": []
  }
 ],
 "metadata": {
  "kernelspec": {
   "display_name": "Python 3",
   "language": "python",
   "name": "python3"
  },
  "language_info": {
   "codemirror_mode": {
    "name": "ipython",
    "version": 3
   },
   "file_extension": ".py",
   "mimetype": "text/x-python",
   "name": "python",
   "nbconvert_exporter": "python",
   "pygments_lexer": "ipython3",
   "version": "3.7.3"
  }
 },
 "nbformat": 4,
 "nbformat_minor": 2
}
